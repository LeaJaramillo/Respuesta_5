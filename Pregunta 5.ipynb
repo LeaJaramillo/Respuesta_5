{
 "cells": [
  {
   "cell_type": "markdown",
   "id": "4c2f9251-4a5a-4767-8cfa-5ae203e2b4d1",
   "metadata": {
    "id": "NUpwUcSk2jHk"
   },
   "source": [
    "<img width=\"600px\" src=\"https://www.urp.edu.pe/img/thumbnails/wm/745/hm/243/we/745/he/243/x/0/y/0/s/0/q/60/zc/3/f/0/rgb/000000/src/28042/n/picture3.png\"></img>\n",
    "# <font color='Darkorange'>Unidad de Posgrado - Maestría en Ciencia de los datos</font></span>\n",
    "## <font color='Steelblue'> Matemática Aplicada a la Ciencia de Datos - Prof: Mg. Carlos Deudor Gomez </font></span>\n",
    "## Alumno: **Jaramillo - Rojas - Leandra Marcela**\n",
    "---\n",
    "----"
   ]
  },
  {
   "cell_type": "markdown",
   "id": "f711b174-68c6-4ced-9405-433a3741eb9b",
   "metadata": {},
   "source": [
    "**5. Ejercicio:**\n",
    "\n",
    "En Inglaterra las intersecciones con frecuencia se construyen como circuitos en forma de glorieta de un solo sentido, como el que se ilustra en la figura. Suponga que el tráfico debe circular en los sentidos indicados. Encuentre la solución general del flujo de red. Determine el valor más pequeño posible para x6"
   ]
  },
  {
   "cell_type": "markdown",
   "id": "312e49e5-cd16-4220-ac41-72b8740710f6",
   "metadata": {
    "tags": []
   },
   "source": [
    "<div style=\"text-align: center;\">\n",
    "    <img src=\"Imagen3.png\" alt=\"Logo personal\" style=\"width:50%;\">\n",
    "</div>"
   ]
  },
  {
   "cell_type": "markdown",
   "id": "a183c49a-8ac4-4d1c-8ff3-a037559173f1",
   "metadata": {},
   "source": [
    "**Respuesta**"
   ]
  },
  {
   "cell_type": "markdown",
   "id": "798481ba-4a42-47a0-8906-e4d5d5674119",
   "metadata": {},
   "source": [
    "**Paso 1: Aplicación del Principio de Conservación de Flujos, que establece que la suma de los flujos de entrada es igual a la suma de los flujos de salida en cada nodo.**\n",
    "\n",
    "$$\n",
    "\\sum \\text{Flujo de entrada} = \\sum \\text{Flujo de salida}\n",
    "$$"
   ]
  },
  {
   "cell_type": "markdown",
   "id": "fffcbbef-92fe-4994-abc0-54e8469cb50f",
   "metadata": {},
   "source": [
    "\\begin{equation}\n",
    "A: \\ 60 + X6 = x_1 \n",
    "\\end{equation}\n",
    "\n",
    "\\begin{equation}\n",
    "B: \\ x_1 = 70 + X2\n",
    "\\end{equation}\n",
    "\n",
    "\\begin{equation}\n",
    "C: \\ 100 + X_2 = x_3\n",
    "\\end{equation}\n",
    "\n",
    "\\begin{equation}\n",
    "D: \\ x_3 = x_4 + 90\n",
    "\\end{equation}\n",
    "\n",
    "\\begin{equation}\n",
    "E: \\ x_4 + 8 = x_5\n",
    "\\end{equation}\n",
    "\n",
    "\\begin{equation}\n",
    "F: \\ x_5 = 80 + x_6\n",
    "\\end{equation}"
   ]
  },
  {
   "cell_type": "markdown",
   "id": "a215f894-e3dc-40b0-8830-40689ba133b3",
   "metadata": {},
   "source": [
    "**Paso 2: Reorganización del sistema de ecuaciones:**\n",
    "\n",
    "\\begin{equation}\n",
    "A: \\ -x_1 + x_6 = -60\n",
    "\\end{equation}\n",
    "\n",
    "\\begin{equation}\n",
    "B: \\ x_1 - x_2 = 70\n",
    "\\end{equation}\n",
    "\n",
    "\\begin{equation}\n",
    "C: \\ x_2 - x_3 = -100\n",
    "\\end{equation}\n",
    "\n",
    "\\begin{equation}\n",
    "D: \\ x_3 - x_4 = 90\n",
    "\\end{equation}\n",
    "\n",
    "\\begin{equation}\n",
    "E: \\ x_4 - x_5 = -8\n",
    "\\end{equation}\n",
    "\n",
    "\\begin{equation}\n",
    "F : \\ x_5 - x_6 = 80\n",
    "\\end{equation}"
   ]
  },
  {
   "cell_type": "markdown",
   "id": "e0038041-f0b8-4b5d-a5cf-132f8126f130",
   "metadata": {},
   "source": [
    "**Paso 3: Conversión de ecuaciones a su forma matricial:**\n",
    "\n",
    "$$\n",
    "\\begin{bmatrix}\n",
    "-1 & 0 & 0 & 0 & 0 & 1 \\\\ \n",
    "1 & -1 & 0 & 0 & 0 & 0 \\\\ \n",
    "0 & 1 & -1 & 0 & 0 & 0 \\\\ \n",
    "0 & 0 & 1 & -1 & 0 & 0 \\\\ \n",
    "0 & 0 & 0 & 1 & -1 & 0 \\\\ \n",
    "0 & 0 & 0 & 0 & 1 & -1 \n",
    "\\end{bmatrix}\n",
    "\\begin{bmatrix}\n",
    "x_1 \\\\ \n",
    "x_2 \\\\ \n",
    "x_3 \\\\ \n",
    "x_4 \\\\\n",
    "x_5 \\\\\n",
    "x_6 \\\\\n",
    "\\end{bmatrix}\n",
    "=\n",
    "\\begin{bmatrix}\n",
    "-60 \\\\ \n",
    "70 \\\\ \n",
    "-100 \\\\ \n",
    "90 \\\\ \n",
    "-8 \\\\ \n",
    "80 \\\\ \n",
    "\\end{bmatrix}\n",
    "$$"
   ]
  },
  {
   "cell_type": "markdown",
   "id": "116239b0-3ad5-4a0f-9809-373574b034fb",
   "metadata": {},
   "source": [
    "**Paso 4: Resolviendo el sistema de ecuaciones en Python**"
   ]
  },
  {
   "cell_type": "code",
   "execution_count": 1,
   "id": "4538e0bc-f164-4b3d-94d7-892eb2c2c00a",
   "metadata": {
    "tags": []
   },
   "outputs": [
    {
     "name": "stdout",
     "output_type": "stream",
     "text": [
      "Los flujos de autos en la red de tráfico (solución con restricciones de no negatividad) son:\n",
      "x1 (flujo de A a B) = 65.00 autos\n",
      "x2 (flujo de B a C) = 0.00 autos\n",
      "x3 (flujo de C a D) = 0.00 autos\n",
      "x4 (flujo de D a C) = 0.00 autos\n",
      "x5 (flujo de E a B) = 0.00 autos\n",
      "x6 (flujo de C a F) = 0.00 autos\n",
      "Error cuadrático residual: 10371.000000000022\n"
     ]
    }
   ],
   "source": [
    "import numpy as np\n",
    "from scipy.optimize import lsq_linear\n",
    "\n",
    "# Definir la matriz de coeficientes A y el vector de términos independientes B\n",
    "A = np.array([\n",
    "    [-1, 0, 0, 0, 0, 1],  \n",
    "    [1, 1, 0, 0, 0, 0],   \n",
    "    [0, 1, 1, 0, 0, 0],   \n",
    "    [0, 0, 1, -1, 0, 0],     \n",
    "    [0, 0, 0, 1, -1, 0],\n",
    "    [0, 0, 0, 0, 1, -1]\n",
    "])\n",
    "\n",
    "B = np.array([-60, 70, -100, 90, -8, 80])\n",
    "\n",
    "# Resolver el sistema utilizando lsq_linear con restricciones de no negatividad\n",
    "result = lsq_linear(A, B, bounds=(0, np.inf))\n",
    "\n",
    "# Extraer la solución\n",
    "X = result.x\n",
    "\n",
    "print(\"Los flujos de autos en la red de tráfico (solución con restricciones de no negatividad) son:\")\n",
    "print(f\"x1 (flujo de A a B) = {X[0]:.2f} autos\")\n",
    "print(f\"x2 (flujo de B a C) = {X[1]:.2f} autos\")\n",
    "print(f\"x3 (flujo de C a D) = {X[2]:.2f} autos\")\n",
    "print(f\"x4 (flujo de D a C) = {X[3]:.2f} autos\")\n",
    "print(f\"x5 (flujo de E a B) = {X[2]:.2f} autos\")\n",
    "print(f\"x6 (flujo de C a F) = {X[3]:.2f} autos\")\n",
    "\n",
    "# Mostrar el error cuadrático residual\n",
    "print(f\"Error cuadrático residual: {result.cost}\")"
   ]
  }
 ],
 "metadata": {
  "kernelspec": {
   "display_name": "Python 3 (ipykernel)",
   "language": "python",
   "name": "python3"
  },
  "language_info": {
   "codemirror_mode": {
    "name": "ipython",
    "version": 3
   },
   "file_extension": ".py",
   "mimetype": "text/x-python",
   "name": "python",
   "nbconvert_exporter": "python",
   "pygments_lexer": "ipython3",
   "version": "3.11.5"
  }
 },
 "nbformat": 4,
 "nbformat_minor": 5
}
